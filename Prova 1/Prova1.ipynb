{
  "nbformat": 4,
  "nbformat_minor": 0,
  "metadata": {
    "colab": {
      "name": "Prova1.ipynb",
      "provenance": [],
      "collapsed_sections": []
    },
    "kernelspec": {
      "name": "python3",
      "display_name": "Python 3"
    },
    "language_info": {
      "name": "python"
    }
  },
  "cells": [
    {
      "cell_type": "markdown",
      "metadata": {
        "id": "XwpNoBldfQT7"
      },
      "source": [
        "# Prova 1 - O Paradoxo do Capacitor Gêmeo - Gustavo G. Rigor - BEC VII"
      ]
    },
    {
      "cell_type": "code",
      "metadata": {
        "id": "t6H34x88fWE5"
      },
      "source": [
        "import matplotlib.pyplot as plt\n",
        "from math import exp"
      ],
      "execution_count": null,
      "outputs": []
    },
    {
      "cell_type": "code",
      "metadata": {
        "colab": {
          "base_uri": "https://localhost:8080/"
        },
        "id": "uOzgKfyGfYGp",
        "outputId": "30b98d67-6951-4239-97fc-a45bb5229218"
      },
      "source": [
        "r = float(input('Valor de R(ohms): '))\n",
        "c = float(input('Valor de C(Farads): '))\n",
        "v0 = float(input('Valor inicial da tensão no capacitor(Volts): '))"
      ],
      "execution_count": null,
      "outputs": [
        {
          "output_type": "stream",
          "text": [
            "Valor de R(ohms): 1\n",
            "Valor de C(Farads): 2\n",
            "Valor inicial da tensão no capacitor(Volts): 1\n"
          ],
          "name": "stdout"
        }
      ]
    },
    {
      "cell_type": "code",
      "metadata": {
        "id": "eIMU2q-VfZ8p"
      },
      "source": [
        "graphT = []\n",
        "graphI = []\n",
        "graphV = []\n",
        "graphV1 = []\n",
        "graphV2 = []"
      ],
      "execution_count": null,
      "outputs": []
    },
    {
      "cell_type": "code",
      "metadata": {
        "id": "_VyphCpVfb_J"
      },
      "source": [
        "t0 = 0\n",
        "i0 = 0\n",
        "v10 = v0\n",
        "v20 = 0"
      ],
      "execution_count": null,
      "outputs": []
    },
    {
      "cell_type": "code",
      "metadata": {
        "id": "ab7Kc5E-fe7x"
      },
      "source": [
        "graphT.append(t0)\n",
        "graphI.append(i0)\n",
        "graphV1.append(v10)\n",
        "graphV2.append(v20)\n",
        "graphV.append(v0)"
      ],
      "execution_count": null,
      "outputs": []
    },
    {
      "cell_type": "code",
      "metadata": {
        "id": "5p6EZtgYfgqy"
      },
      "source": [
        "h = 0.1\n",
        "n = 2.5/h"
      ],
      "execution_count": null,
      "outputs": []
    },
    {
      "cell_type": "code",
      "metadata": {
        "id": "51DZg-_lfija"
      },
      "source": [
        "def v(t):\n",
        "    return v0 * exp(-t*2/(r*c))\n",
        "\n",
        "def i(t, i0):\n",
        "    return i0 * exp(-t/(r*c*0.5))\n",
        "\n",
        "def v1(v):\n",
        "    return 0.5*(v0 + v)\n",
        "\n",
        "def v2(v):\n",
        "    return 0.5*(v0 - v)"
      ],
      "execution_count": null,
      "outputs": []
    },
    {
      "cell_type": "code",
      "metadata": {
        "id": "tT4DJW4rflRp"
      },
      "source": [
        "while graphT[-1] < n:\n",
        "    graphT.append(graphT[-1]+h)\n",
        "    \n",
        "    k1= i(graphT[-1], graphI[-1])\n",
        "    k2= i(graphT[-1] + h/2, graphI[-1] + h/2)\n",
        "    k3= i(graphT[-1] + h/2, graphI[-1]+ (h/2)*k2)\n",
        "    k4= i(graphT[-1]+ h, graphI[-1]+ h*k3)\n",
        "\n",
        "    graphI.append(graphI[-1] + (h/6)*(k1 + 2*k2 + 2*k3 + k4))\n",
        "\n",
        "    graphV.append(v(graphT[-1]))\n",
        "    graphV1.append(v1(graphV[-1]))\n",
        "    graphV2.append(v2(graphV[-1]))"
      ],
      "execution_count": null,
      "outputs": []
    },
    {
      "cell_type": "code",
      "metadata": {
        "colab": {
          "base_uri": "https://localhost:8080/",
          "height": 265
        },
        "id": "pcEETo-tft_K",
        "outputId": "7b313714-ce64-4a2e-b6a1-97a7b2cfb7fa"
      },
      "source": [
        "plt.plot(graphT,graphV1, label='v1(t)')\n",
        "plt.plot(graphT,graphV2, label='v2(t)')\n",
        "plt.plot(graphT,graphI, label='i(t)')\n",
        "plt.plot(graphT,graphV, label='v(t)')\n",
        "plt.legend()\n",
        "plt.show()"
      ],
      "execution_count": null,
      "outputs": [
        {
          "output_type": "display_data",
          "data": {
            "image/png": "[encoded data removed]",
            "text/plain": [
              "<Figure size 432x288 with 1 Axes>"
            ]
          },
          "metadata": {
            "tags": [],
            "needs_background": "light"
          }
        }
      ]
    },
    {
      "cell_type": "markdown",
      "metadata": {
        "id": "6_kSVJCVf_Yi"
      },
      "source": [
        "**REFERÊNCIAS**\n",
        "\n",
        "Aula 1 - Paradoxo dos Capacitores em Paralelo - https://www.dt.fee.unicamp.br/~www/ea513/node3.html\n",
        "\n",
        "The Twin Capacitor Paradox - https://youtu.be/HlqC2cT7PcQ\n",
        "\n",
        "Simução do Circuito - https://www.multisim.com/content/DdGp2NzXnAwEX9YDtyzfPE/prova-1-sistemas-e-sinais/"
      ]
    }
  ]
}